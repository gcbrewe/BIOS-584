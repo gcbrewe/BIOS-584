{
 "cells": [
  {
   "cell_type": "code",
   "execution_count": null,
   "id": "db54a081-bc38-4990-ad3c-de82c7f01da1",
   "metadata": {},
   "outputs": [],
   "source": []
  }
 ],
 "metadata": {
  "kernelspec": {
   "display_name": "",
   "name": ""
  },
  "language_info": {
   "name": ""
  }
 },
 "nbformat": 4,
 "nbformat_minor": 5
}
