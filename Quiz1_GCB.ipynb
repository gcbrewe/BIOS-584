{
 "cells": [
  {
   "cell_type": "markdown",
   "id": "73c44343-8158-4eb8-bb48-5a31e1ecfa4c",
   "metadata": {},
   "source": [
    "Grace Brewer"
   ]
  },
  {
   "cell_type": "code",
   "execution_count": 1,
   "id": "fc383714-1493-4a77-ba28-b4d8776cabd1",
   "metadata": {},
   "outputs": [
    {
     "name": "stdout",
     "output_type": "stream",
     "text": [
      "['cat1', 'cat1', 'cat1', 'cat2']\n"
     ]
    }
   ],
   "source": [
    "list_1 = ['cat1', 'cat1', 'cat1']\n",
    "list_1.append('cat2')\n",
    "print(list_1)"
   ]
  },
  {
   "cell_type": "code",
   "execution_count": 2,
   "id": "e62458f0-fa59-4635-ba20-0e2344d0f89e",
   "metadata": {},
   "outputs": [
    {
     "name": "stdout",
     "output_type": "stream",
     "text": [
      "[]\n"
     ]
    }
   ],
   "source": [
    "list_2 = ['cat1', 'cat1', 'cat1']\n",
    "list_2.clear()\n",
    "print(list_2)"
   ]
  },
  {
   "cell_type": "code",
   "execution_count": 3,
   "id": "38d6518b-64a7-4107-a286-e3beb94c210e",
   "metadata": {},
   "outputs": [
    {
     "name": "stdout",
     "output_type": "stream",
     "text": [
      "['cat1', 'cat1', 'cat1']\n"
     ]
    }
   ],
   "source": [
    "list_3 = ['cat1', 'cat1', 'cat1']\n",
    "list_3.copy()\n",
    "print(list_3)"
   ]
  },
  {
   "cell_type": "code",
   "execution_count": 6,
   "id": "5d9ce44d-4532-4083-a9d5-832e156291f7",
   "metadata": {},
   "outputs": [
    {
     "name": "stdout",
     "output_type": "stream",
     "text": [
      "2\n"
     ]
    }
   ],
   "source": [
    "list4 = ['cat1', 'cat1', 'cat2']\n",
    "print(list4.count('cat1'))"
   ]
  },
  {
   "cell_type": "code",
   "execution_count": 7,
   "id": "d8a6b743-3c7a-447b-8672-7ba1a772717b",
   "metadata": {},
   "outputs": [
    {
     "name": "stdout",
     "output_type": "stream",
     "text": [
      "2\n"
     ]
    }
   ],
   "source": [
    "list5 = ['cat1', 'cat1', 'cat2']\n",
    "print(list5.index('cat2'))"
   ]
  },
  {
   "cell_type": "code",
   "execution_count": 8,
   "id": "ff1b8a42-1dc7-4cdd-83e9-ff0ab6fcfa04",
   "metadata": {},
   "outputs": [
    {
     "name": "stdout",
     "output_type": "stream",
     "text": [
      "['cat1', 'cat2', 'cat1', 'cat2']\n"
     ]
    }
   ],
   "source": [
    "list6 = ['cat1', 'cat1', 'cat2']\n",
    "list6.insert(1, 'cat2')\n",
    "print(list6)"
   ]
  },
  {
   "cell_type": "code",
   "execution_count": 9,
   "id": "1b328f4c-f79b-4768-b3ae-f9315223b765",
   "metadata": {},
   "outputs": [
    {
     "name": "stdout",
     "output_type": "stream",
     "text": [
      "['cat1', 'cat1']\n"
     ]
    }
   ],
   "source": [
    "list7 = ['cat1', 'cat1', 'cat2']\n",
    "removed = list7.pop(2)\n",
    "print(list7)"
   ]
  },
  {
   "cell_type": "code",
   "execution_count": 10,
   "id": "ea356390-55e0-41b2-b656-06dcc7c4a3eb",
   "metadata": {},
   "outputs": [
    {
     "name": "stdout",
     "output_type": "stream",
     "text": [
      "['cat1', 'cat1']\n"
     ]
    }
   ],
   "source": [
    "list8 = ['cat1', 'cat1', 'cat2']\n",
    "list8.remove('cat2')\n",
    "print(list8)"
   ]
  },
  {
   "metadata": {},
   "cell_type": "code",
   "outputs": [],
   "execution_count": null,
   "source": [
    "list9 = ['cat1', 'cat1', 'cat2']\n",
    "list9.reverse()\n",
    "print(list9)"
   ],
   "id": "7f915346ab9ee2b3"
  },
  {
   "metadata": {},
   "cell_type": "code",
   "outputs": [],
   "execution_count": null,
   "source": "",
   "id": "e9eb1b0d17df5e74"
  }
 ],
 "metadata": {
  "kernelspec": {
   "display_name": "Python 3 (ipykernel)",
   "language": "python",
   "name": "python3"
  },
  "language_info": {
   "codemirror_mode": {
    "name": "ipython",
    "version": 3
   },
   "file_extension": ".py",
   "mimetype": "text/x-python",
   "name": "python",
   "nbconvert_exporter": "python",
   "pygments_lexer": "ipython3",
   "version": "3.13.5"
  }
 },
 "nbformat": 4,
 "nbformat_minor": 5
}
